{
 "cells": [
  {
   "cell_type": "markdown",
   "metadata": {},
   "source": [
    "# Numpy"
   ]
  },
  {
   "cell_type": "code",
   "execution_count": 1,
   "metadata": {},
   "outputs": [],
   "source": [
    "import numpy as np\n",
    "import time"
   ]
  },
  {
   "cell_type": "markdown",
   "metadata": {},
   "source": [
    "## Day-1"
   ]
  },
  {
   "cell_type": "code",
   "execution_count": 3,
   "metadata": {},
   "outputs": [
    {
     "name": "stdout",
     "output_type": "stream",
     "text": [
      "1.21.6\n",
      "<class 'list'>\n",
      "<class 'numpy.ndarray'>\n",
      "List:  [1, 2, 3]\n",
      "numpy array: [1 2 3]\n"
     ]
    }
   ],
   "source": [
    "py_list = [1,2,3]\n",
    "arr = np.array([1,2,3])\n",
    "\n",
    "print(np.__version__)\n",
    "\n",
    "print(type(py_list))\n",
    "print(type(arr))\n",
    "\n",
    "print(\"List: \",py_list)\n",
    "print(\"numpy array:\" ,arr)"
   ]
  },
  {
   "cell_type": "code",
   "execution_count": 13,
   "metadata": {
    "scrolled": false
   },
   "outputs": [
    {
     "name": "stdout",
     "output_type": "stream",
     "text": [
      "[0 1 8 7 0 9 5 4 5 8 0]\n",
      "[ 0  2 16 14  0 18 10  8 10 16  0]\n",
      "\n",
      "<class 'list'>\n",
      "<class 'numpy.ndarray'>\n"
     ]
    }
   ],
   "source": [
    "my_num = [0,1,8,7,0,9,5,4,5,8,0]\n",
    "num_arr = np.array(my_num)\n",
    "num_arr2 = num_arr * 2\n",
    "\n",
    "print(num_arr)\n",
    "print(num_arr2)\n",
    "print()\n",
    "print(type(my_num))\n",
    "print(type(num_arr))"
   ]
  },
  {
   "cell_type": "markdown",
   "metadata": {},
   "source": [
    "### print 5 to 10 by array"
   ]
  },
  {
   "cell_type": "code",
   "execution_count": 14,
   "metadata": {},
   "outputs": [
    {
     "name": "stdout",
     "output_type": "stream",
     "text": [
      "[ 5  6  7  8  9 10]\n"
     ]
    }
   ],
   "source": [
    "arrange = [i for i in range(5,11)]\n",
    "arr = np.array(arrange)\n",
    "print(arr)"
   ]
  },
  {
   "cell_type": "markdown",
   "metadata": {},
   "source": [
    "### name array"
   ]
  },
  {
   "cell_type": "code",
   "execution_count": 15,
   "metadata": {},
   "outputs": [
    {
     "name": "stdout",
     "output_type": "stream",
     "text": [
      "['r' 'a' 'f' 'i']\n"
     ]
    }
   ],
   "source": [
    "name = \"rafi\"\n",
    "name_char_list = [char for char in name]\n",
    "name_arr = np.array(name_char_list)\n",
    "print(name_arr)"
   ]
  },
  {
   "cell_type": "markdown",
   "metadata": {},
   "source": [
    "### list vs array time tasting"
   ]
  },
  {
   "cell_type": "code",
   "execution_count": 31,
   "metadata": {},
   "outputs": [
    {
     "name": "stdout",
     "output_type": "stream",
     "text": [
      "List taken time 0.19701123237609863\n",
      "Numpy taken time 0.0030002593994140625\n"
     ]
    }
   ],
   "source": [
    "\n",
    "\n",
    "#list \n",
    "py_list = list(range(1000000))\n",
    "start = time.time()\n",
    "py_list = [x*2 for x in py_list]\n",
    "print(\"List taken time\", time.time() - start)\n",
    "\n",
    "#array \n",
    "numpy_arr = np.arange(1000000)\n",
    "start = time.time()\n",
    "numpy_arr = numpy_arr * 2\n",
    "print(\"Numpy taken time\", time.time() - start)"
   ]
  },
  {
   "cell_type": "markdown",
   "metadata": {},
   "source": [
    "### array dimension"
   ]
  },
  {
   "cell_type": "code",
   "execution_count": 4,
   "metadata": {},
   "outputs": [
    {
     "name": "stdout",
     "output_type": "stream",
     "text": [
      "[1 2 3]\n",
      "\n",
      "[[1 2 3]\n",
      " [4 5 6]]\n",
      "\n",
      "[[[ 1  2  3]\n",
      "  [ 4  5  6]]\n",
      "\n",
      " [[ 7  8  9]\n",
      "  [10 11 12]]]\n",
      "\n",
      "1D\n",
      "2D\n",
      "3D\n",
      "\n",
      "(3,)\n",
      "(2, 3)\n",
      "(2, 2, 3)\n",
      "\n",
      "3\n",
      "6\n",
      "12\n",
      "\n",
      "[[0. 0. 0.]\n",
      " [0. 0. 0.]]\n",
      "\n",
      "[[1. 1. 1.]\n",
      " [1. 1. 1.]]\n",
      "\n",
      "[0.   0.25 0.5  0.75 1.  ]\n"
     ]
    }
   ],
   "source": [
    "# array list\n",
    "arr_1D = np.array([1,2,3])\n",
    "arr_2D = np.array([[1,2,3],[4,5,6]])\n",
    "arr_3D = np.array([[[1,2,3],[4,5,6]],[[7,8,9],[10,11,12]]])\n",
    "\n",
    "#printing arrays\n",
    "print(arr_1D)\n",
    "print()\n",
    "print(arr_2D)\n",
    "print()\n",
    "print(arr_3D)\n",
    "\n",
    "\n",
    "#printing arrays dimension\n",
    "print()\n",
    "print(f\"{arr_1D.ndim}D\")\n",
    "print(f\"{arr_2D.ndim}D\")\n",
    "print(f\"{arr_3D.ndim}D\")\n",
    "\n",
    "#printing shape of arrays\n",
    "print()\n",
    "print(arr_1D.shape)\n",
    "print(arr_2D.shape)\n",
    "print(arr_3D.shape)\n",
    "\n",
    "\n",
    "#printing size of arrays\n",
    "print()\n",
    "print(arr_1D.size)\n",
    "print(arr_2D.size)\n",
    "print(arr_3D.size)\n",
    "\n",
    "#printing zeros array\n",
    "print()\n",
    "zero_arr = np.zeros((2,3))\n",
    "print(zero_arr)\n",
    "\n",
    "#printing ones array\n",
    "print()\n",
    "one_arr = np.ones((2,3))\n",
    "print(one_arr)\n",
    "\n",
    "#graph linspace\n",
    "print()\n",
    "graph = np.linspace(0,1,5)\n",
    "print(graph)"
   ]
  },
  {
   "cell_type": "markdown",
   "metadata": {},
   "source": [
    "### Day - 1 Practice Problem"
   ]
  },
  {
   "cell_type": "code",
   "execution_count": 5,
   "metadata": {},
   "outputs": [
    {
     "name": "stdout",
     "output_type": "stream",
     "text": [
      "[ 5 10 15 20 25 30 35 40 45 50]\n"
     ]
    }
   ],
   "source": [
    "#task - 1\n",
    "arange_arr = np.arange(5,51,5)\n",
    "print(arange_arr)"
   ]
  },
  {
   "cell_type": "code",
   "execution_count": 30,
   "metadata": {},
   "outputs": [
    {
     "name": "stdout",
     "output_type": "stream",
     "text": [
      "[[1. 1. 1. 1.]\n",
      " [1. 1. 1. 1.]\n",
      " [0. 0. 0. 0.]\n",
      " [0. 0. 0. 0.]]\n"
     ]
    }
   ],
   "source": [
    "#task - 2\n",
    "upper = np.ones((2,4))\n",
    "lower = np.zeros((2,4))\n",
    "arr = np.vstack([upper, lower])\n",
    "print(arr)"
   ]
  },
  {
   "cell_type": "code",
   "execution_count": 26,
   "metadata": {},
   "outputs": [
    {
     "name": "stdout",
     "output_type": "stream",
     "text": [
      "[  0.          11.11111111  22.22222222  33.33333333  44.44444444\n",
      "  55.55555556  66.66666667  77.77777778  88.88888889 100.        ]\n"
     ]
    }
   ],
   "source": [
    "#task - 3\n",
    "wanting_value = np.linspace(0,100, 10)\n",
    "print(wanting_value)"
   ]
  },
  {
   "cell_type": "code",
   "execution_count": 27,
   "metadata": {},
   "outputs": [
    {
     "name": "stdout",
     "output_type": "stream",
     "text": [
      "Shape: (2, 2, 2)\n",
      "\n",
      "Dimension: 3\n"
     ]
    }
   ],
   "source": [
    "#task - 4\n",
    "arr = np.array([\n",
    "    [[1, 2], [3, 4]],\n",
    "    [[5, 6], [7, 8]]\n",
    "])\n",
    "\n",
    "print(\"Shape:\",arr.shape)\n",
    "print()\n",
    "print(\"Dimension:\",arr.ndim)"
   ]
  },
  {
   "cell_type": "code",
   "execution_count": 23,
   "metadata": {},
   "outputs": [
    {
     "name": "stdout",
     "output_type": "stream",
     "text": [
      "[[7 7 7]\n",
      " [7 7 7]\n",
      " [7 7 7]]\n",
      "\n",
      "int32\n"
     ]
    }
   ],
   "source": [
    "#task - 5\n",
    "matrix = np.full((3,3), 7, dtype = np.int32)\n",
    "print(matrix)\n",
    "print()\n",
    "print(matrix.dtype)"
   ]
  },
  {
   "cell_type": "markdown",
   "metadata": {},
   "source": [
    "## Day - 2"
   ]
  },
  {
   "cell_type": "markdown",
   "metadata": {},
   "source": [
    "### Indexing in NumPy"
   ]
  },
  {
   "cell_type": "code",
   "execution_count": 41,
   "metadata": {},
   "outputs": [
    {
     "name": "stdout",
     "output_type": "stream",
     "text": [
      "3\n",
      "6\n",
      "11\n"
     ]
    }
   ],
   "source": [
    "# array list\n",
    "arr_1D = np.array([1,2,3,4,5,6])\n",
    "arr_2D = np.array([[1,2,3],[4,5,6]])\n",
    "arr_3D = np.array([[[1,2,3],[4,5,6]],[[7,8,9],[10,11,12]]])\n",
    "\n",
    "print(arr_1D[2]) # print 3 from 1D array\n",
    "print(arr_2D[1,2]) # print 6 from 2D array\n",
    "print(arr_3D[1,1,1]) # print 11 from 3D array"
   ]
  },
  {
   "cell_type": "markdown",
   "metadata": {},
   "source": [
    "### Slicing in NumPy"
   ]
  },
  {
   "cell_type": "code",
   "execution_count": 45,
   "metadata": {},
   "outputs": [
    {
     "name": "stdout",
     "output_type": "stream",
     "text": [
      "[2 3 4 5]\n",
      "[4 5]\n",
      "[11 12]\n"
     ]
    }
   ],
   "source": [
    "print(arr_1D[1:5])\n",
    "print(arr_2D[1,:2]) \n",
    "print(arr_3D[1,1,1:3])"
   ]
  },
  {
   "cell_type": "markdown",
   "metadata": {},
   "source": [
    "### Copy and view in numpy"
   ]
  },
  {
   "cell_type": "code",
   "execution_count": 46,
   "metadata": {},
   "outputs": [
    {
     "name": "stdout",
     "output_type": "stream",
     "text": [
      "[100   2   3   4   5   6]\n",
      "[1 2 3 4 5 6]\n",
      "[100   2   3   4   5   6]\n"
     ]
    }
   ],
   "source": [
    "arr = np.array([1,2,3,4,5,6])\n",
    "\n",
    "copy_arr = arr.copy()\n",
    "view_arr = arr.view()\n",
    "\n",
    "arr[0] = 100\n",
    "\n",
    "print(arr)\n",
    "print(copy_arr)\n",
    "print(view_arr)"
   ]
  },
  {
   "cell_type": "markdown",
   "metadata": {},
   "source": [
    "### Reshaped array in numpy"
   ]
  },
  {
   "cell_type": "code",
   "execution_count": 49,
   "metadata": {},
   "outputs": [
    {
     "name": "stdout",
     "output_type": "stream",
     "text": [
      "[1 2 3 4 5 6]\n",
      "\n",
      "[[1 2 3]\n",
      " [4 5 6]]\n"
     ]
    }
   ],
   "source": [
    "arr = np.array([1,2,3,4,5,6])\n",
    "\n",
    "reshape1 = arr.reshape((2,3))\n",
    "\n",
    "print(arr)\n",
    "print()\n",
    "print(reshape1)"
   ]
  },
  {
   "cell_type": "code",
   "execution_count": 56,
   "metadata": {},
   "outputs": [
    {
     "name": "stdout",
     "output_type": "stream",
     "text": [
      "[[1 2 3]\n",
      " [4 5 6]\n",
      " [7 8 9]]\n",
      "\n",
      "[[1 2 3]\n",
      " [4 5 6]\n",
      " [7 8 9]]\n"
     ]
    }
   ],
   "source": [
    "#task 1 Day 2\n",
    "\n",
    "arr = np.arange(1,10)\n",
    "\n",
    "reshape1 = arr.reshape((3,3))\n",
    "print(reshape1)"
   ]
  },
  {
   "cell_type": "code",
   "execution_count": 57,
   "metadata": {},
   "outputs": [
    {
     "name": "stdout",
     "output_type": "stream",
     "text": [
      "6\n"
     ]
    }
   ],
   "source": [
    "#task 2 Day 2\n",
    "arr = np.arange(1,10)\n",
    "reshape1 = arr.reshape((3,3))\n",
    "\n",
    "print(reshape1[1][2])"
   ]
  },
  {
   "cell_type": "code",
   "execution_count": 59,
   "metadata": {},
   "outputs": [
    {
     "name": "stdout",
     "output_type": "stream",
     "text": [
      "[1 2 3 4 5]\n",
      "[ 1  2 50  4  5]\n"
     ]
    }
   ],
   "source": [
    "#task 3 day 3\n",
    "arr = np.arange(1,6)\n",
    "\n",
    "copy_arr = arr.copy()\n",
    "view_arr = arr.view()\n",
    "\n",
    "arr[2] = 50\n",
    "\n",
    "print(copy_arr)\n",
    "print(view_arr)"
   ]
  },
  {
   "cell_type": "code",
   "execution_count": 65,
   "metadata": {},
   "outputs": [
    {
     "name": "stdout",
     "output_type": "stream",
     "text": [
      "[[ 1  2  3  4]\n",
      " [ 5  6  7  8]\n",
      " [ 9 10 11 12]]\n"
     ]
    }
   ],
   "source": [
    "# task 4 Day 2\n",
    "\n",
    "arr = np.arange(1, 13)\n",
    "reshape1 = arr.reshape((3,4))\n",
    "\n",
    "print(reshape1)"
   ]
  },
  {
   "cell_type": "code",
   "execution_count": 69,
   "metadata": {},
   "outputs": [
    {
     "name": "stdout",
     "output_type": "stream",
     "text": [
      "[[ 1  2  3  4]\n",
      " [ 5  6  7  8]\n",
      " [ 9 10 11 12]]\n"
     ]
    }
   ],
   "source": [
    "# task 5 Day 2\n",
    "\n",
    "arr = np.arange(1, 13)\n",
    "reshape1 = arr.reshape((3,4))\n",
    "\n",
    "print(reshape1)"
   ]
  },
  {
   "cell_type": "markdown",
   "metadata": {},
   "source": [
    "### Day 1 & 2 Task"
   ]
  },
  {
   "cell_type": "code",
   "execution_count": 70,
   "metadata": {},
   "outputs": [
    {
     "name": "stdout",
     "output_type": "stream",
     "text": [
      "[ 5 10 15 20 25 30 35 40 45 50]\n"
     ]
    }
   ],
   "source": [
    "#task 1\n",
    "\n",
    "arr = np.arange(5,51,5)\n",
    "print(arr)"
   ]
  },
  {
   "cell_type": "code",
   "execution_count": 72,
   "metadata": {},
   "outputs": [
    {
     "name": "stdout",
     "output_type": "stream",
     "text": [
      "[[0. 0. 0. 0.]\n",
      " [0. 0. 0. 0.]]\n",
      "\n",
      "[[1. 1. 1. 1.]\n",
      " [1. 1. 1. 1.]]\n"
     ]
    }
   ],
   "source": [
    "#task 2\n",
    "\n",
    "zero_arr = np.zeros((2,4))\n",
    "one_arr = np.ones((2,4))\n",
    "\n",
    "print(zero_arr)\n",
    "print()\n",
    "print(one_arr)"
   ]
  },
  {
   "cell_type": "code",
   "execution_count": 73,
   "metadata": {},
   "outputs": [
    {
     "name": "stdout",
     "output_type": "stream",
     "text": [
      "[  0  10  20  30  40  50  60  70  80  90 100]\n"
     ]
    }
   ],
   "source": [
    "#task 3\n",
    "\n",
    "arr = np.arange(0,101,10)\n",
    "print(arr)"
   ]
  },
  {
   "cell_type": "code",
   "execution_count": 75,
   "metadata": {},
   "outputs": [
    {
     "name": "stdout",
     "output_type": "stream",
     "text": [
      "shape: (2, 2, 2)\n",
      "Dimension: 3D\n"
     ]
    }
   ],
   "source": [
    "#task 4\n",
    "\n",
    "arr = np.array([\n",
    "    [[1, 2], [3, 4]],\n",
    "    [[5, 6], [7, 8]]\n",
    "])\n",
    "\n",
    "print(\"shape:\",arr.shape)\n",
    "print(f\"Dimension: {arr.ndim}D\")"
   ]
  },
  {
   "cell_type": "code",
   "execution_count": 84,
   "metadata": {},
   "outputs": [
    {
     "name": "stdout",
     "output_type": "stream",
     "text": [
      "[[7 7 7]\n",
      " [7 7 7]\n",
      " [7 7 7]]\n"
     ]
    }
   ],
   "source": [
    "#task 5\n",
    "arr = np.full((3,3),7, dtype = np.int32)\n",
    "print(arr)"
   ]
  },
  {
   "cell_type": "code",
   "execution_count": 85,
   "metadata": {},
   "outputs": [
    {
     "name": "stdout",
     "output_type": "stream",
     "text": [
      "[[1 2 3]\n",
      " [4 5 6]\n",
      " [7 8 9]]\n"
     ]
    }
   ],
   "source": [
    "# task 6\n",
    "arr = np.arange(1,10)\n",
    "reshape_arr = arr.reshape((3,3))\n",
    "print(reshape_arr)"
   ]
  },
  {
   "cell_type": "code",
   "execution_count": 86,
   "metadata": {},
   "outputs": [
    {
     "name": "stdout",
     "output_type": "stream",
     "text": [
      "6\n"
     ]
    }
   ],
   "source": [
    "#task 7\n",
    "arr = np.arange(1,10)\n",
    "reshape_arr = arr.reshape((3,3))\n",
    "\n",
    "print(reshape_arr[1][2])"
   ]
  },
  {
   "cell_type": "code",
   "execution_count": 89,
   "metadata": {},
   "outputs": [
    {
     "name": "stdout",
     "output_type": "stream",
     "text": [
      "copy:  [1 2 3 4 5 6 7 8 9]\n",
      "view:  [ 1  2  3  4  5 30  7  8  9]\n"
     ]
    }
   ],
   "source": [
    "#task 8\n",
    "\n",
    "arr = np.arange(1,10)\n",
    "\n",
    "copy_arr = arr.copy()\n",
    "view_arr = arr.view()\n",
    "\n",
    "arr[5] = 30\n",
    "\n",
    "print(\"copy: \",copy_arr)\n",
    "print(\"view: \",view_arr)\n"
   ]
  },
  {
   "cell_type": "code",
   "execution_count": 94,
   "metadata": {},
   "outputs": [
    {
     "name": "stdout",
     "output_type": "stream",
     "text": [
      "[ 1  2  3  4  5  6  7  8  9 10 11 12]\n",
      "\n",
      "[[ 1  2  3  4]\n",
      " [ 5  6  7  8]\n",
      " [ 9 10 11 12]]\n",
      "\n",
      "[[ 1  2  3  4]\n",
      " [ 9 10 11 12]]\n"
     ]
    }
   ],
   "source": [
    "#task 9\n",
    "arr = np.arange(1,13)\n",
    "reshaped = arr.reshape((3,4))\n",
    "delete_second_row = np.delete(reshaped, 1, axis=0)\n",
    "print(arr)\n",
    "print()\n",
    "print(reshaped)\n",
    "print()\n",
    "print(delete_second_row)"
   ]
  },
  {
   "cell_type": "markdown",
   "metadata": {},
   "source": [
    "## Day 3"
   ]
  },
  {
   "cell_type": "markdown",
   "metadata": {},
   "source": [
    "### practicing Day 1 & 2 problem"
   ]
  },
  {
   "cell_type": "code",
   "execution_count": 43,
   "metadata": {},
   "outputs": [
    {
     "name": "stdout",
     "output_type": "stream",
     "text": [
      "[[ 1  2  3  4]\n",
      " [ 5  6  7  8]\n",
      " [ 9 10 11 12]\n",
      " [13 14 15 16]]\n",
      "\n",
      "[[1 2 3 4]\n",
      " [5 6 7 8]]\n",
      "\n",
      "[[ 6  7]\n",
      " [10 11]]\n",
      "\n",
      "[9, 10, 11, 12, 13, 14, 15, 16]\n",
      "\n",
      "[ 9 10 11 12 13 14 15 16]\n",
      "\n",
      "[ 2  6 10 14]\n"
     ]
    }
   ],
   "source": [
    "#task 1\n",
    "arr = np.arange(1,17)\n",
    "reshaped = arr.reshape((4,4))\n",
    "print(reshaped)\n",
    "\n",
    "#task 2\n",
    "print()\n",
    "arr1 = np.vstack([reshaped[0],reshaped[1]])\n",
    "print(arr1)\n",
    "\n",
    "#task 3\n",
    "print()\n",
    "arr2 = np.vstack([reshaped[1,1:3],reshaped[2,1:3]])\n",
    "print(arr2)\n",
    "\n",
    "#task 4 by list\n",
    "print()\n",
    "lst = []\n",
    "for i in range(reshaped.shape[0]):\n",
    "    for j in range(reshaped.shape[1]):\n",
    "        if reshaped[i,j] > 8:\n",
    "            lst.append(reshaped[i,j])          \n",
    "print(lst)\n",
    "\n",
    "# task 4 by array\n",
    "reshaped1 = reshaped[reshaped > 8]\n",
    "print()\n",
    "print(reshaped1)\n",
    "\n",
    "#task 5\n",
    "print()\n",
    "print(reshaped[:4,1])"
   ]
  },
  {
   "cell_type": "markdown",
   "metadata": {},
   "source": [
    "### Day 3 topics"
   ]
  },
  {
   "cell_type": "code",
   "execution_count": 30,
   "metadata": {},
   "outputs": [
    {
     "name": "stdout",
     "output_type": "stream",
     "text": [
      "[ 9 10 11 12 13 14 15 16]\n"
     ]
    }
   ],
   "source": [
    "reshaped = reshaped[reshaped > 8]\n",
    "print(reshaped)"
   ]
  },
  {
   "cell_type": "code",
   "execution_count": 33,
   "metadata": {},
   "outputs": [
    {
     "name": "stdout",
     "output_type": "stream",
     "text": [
      "[[ 1  2  3  4]\n",
      " [ 5  6  7  8]\n",
      " [ 9 10 11 12]\n",
      " [13 14 15 16]]\n",
      "\n",
      "[[ 1  3]\n",
      " [ 9 11]]\n"
     ]
    }
   ],
   "source": [
    "mat = np.arange(1,17).reshape(4,4)\n",
    "# প্রতি দুটি row-এ, প্রতি ২টি column-এ element নাও\n",
    "print(mat)\n",
    "print()\n",
    "print(mat[0:4:2, 0:4:2])"
   ]
  },
  {
   "cell_type": "code",
   "execution_count": 34,
   "metadata": {},
   "outputs": [
    {
     "name": "stdout",
     "output_type": "stream",
     "text": [
      "flatten: [1 2 3 4 5 6 7 8 9]\n",
      "ravel: [99  2  3  4  5  6  7  8  9]\n"
     ]
    }
   ],
   "source": [
    "mat = np.arange(1,10).reshape(3,3)\n",
    "\n",
    "f = mat.flatten()  \n",
    "r = mat.ravel()\n",
    "\n",
    "mat[0,0] = 99\n",
    "print(\"flatten:\", f)   # old values\n",
    "print(\"ravel:\", r)     # reflects change at [0,0]"
   ]
  },
  {
   "cell_type": "code",
   "execution_count": 40,
   "metadata": {},
   "outputs": [
    {
     "name": "stdout",
     "output_type": "stream",
     "text": [
      "unique: [1 2 3 4 5]\n",
      "diag: [4 3 1]\n",
      "\n",
      "[[4 2 4]\n",
      " [1 3 2]\n",
      " [5 3 1]]\n",
      "\n",
      "[[4 1 5]\n",
      " [2 3 3]\n",
      " [4 2 1]]\n"
     ]
    }
   ],
   "source": [
    "mat = np.array([[4,2,4],[1,3,2],[5,3,1]])\n",
    "print(\"unique:\", np.unique(mat))\n",
    "print(\"diag:\", np.diag(mat))\n",
    "print()\n",
    "print(mat)\n",
    "print()\n",
    "print(mat.T) #transpose the matrix"
   ]
  },
  {
   "cell_type": "code",
   "execution_count": 42,
   "metadata": {},
   "outputs": [
    {
     "name": "stdout",
     "output_type": "stream",
     "text": [
      "[[ 1  2  3  4  5  6]\n",
      " [ 7  8  9 10 11 12]\n",
      " [13 14 15 16 17 18]\n",
      " [19 20 21 22 23 24]\n",
      " [25 26 27 28 29 30]\n",
      " [31 32 33 34 35 36]]\n",
      "\n",
      "[[ 1  3  5]\n",
      " [13 15 17]\n",
      " [25 27 29]]\n"
     ]
    }
   ],
   "source": [
    "mat = np.arange(1,37).reshape(6,6)\n",
    "print(mat)\n",
    "print()\n",
    "print(mat[::2, ::2])"
   ]
  },
  {
   "cell_type": "markdown",
   "metadata": {},
   "source": [
    "### Day 3 Task"
   ]
  },
  {
   "cell_type": "code",
   "execution_count": 45,
   "metadata": {},
   "outputs": [
    {
     "name": "stdout",
     "output_type": "stream",
     "text": [
      "[ 1  7 13 19 25]\n"
     ]
    }
   ],
   "source": [
    "#Task 1\n",
    "# একটি 5x5 matrix তৈরি করো যেখানে মান থাকবে 1 থেকে 25 পর্যন্ত।\n",
    "# তারপর সেই matrix থেকে diagonal elements বের করে প্রিন্ট করো।\n",
    "\n",
    "mat = np.arange(1,26).reshape((5,5))\n",
    "\n",
    "dia_mat = np.diag(mat)\n",
    "print(dia_mat)"
   ]
  },
  {
   "cell_type": "code",
   "execution_count": 59,
   "metadata": {},
   "outputs": [
    {
     "name": "stdout",
     "output_type": "stream",
     "text": [
      "[[10  0  0  0]\n",
      " [ 0 20  0  0]\n",
      " [ 0  0 30  0]\n",
      " [ 0  0  0 40]]\n"
     ]
    }
   ],
   "source": [
    "#Task 2\n",
    "# একটি 1D array তৈরি করো: [10, 20, 30, 40]\n",
    "# তারপর np.diag() ব্যবহার করে diagonal matrix তৈরি করো।\n",
    "\n",
    "arr = np.array([10, 20, 30, 40])\n",
    "dia_mat = np.diag(arr)\n",
    "print(dia_mat)"
   ]
  },
  {
   "cell_type": "code",
   "execution_count": 47,
   "metadata": {},
   "outputs": [
    {
     "name": "stdout",
     "output_type": "stream",
     "text": [
      "[ 2  4  6  8 10]\n"
     ]
    }
   ],
   "source": [
    "#Task 3\n",
    "# একটি 1D array তৈরি করো: [2, 4, 2, 6, 4, 8, 6, 10]\n",
    "# np.unique() ব্যবহার করে unique value গুলো বের করো।\n",
    "\n",
    "arr = np.array([2, 4, 2, 6, 4, 8, 6, 10])\n",
    "uni_arr = np.unique(arr)\n",
    "print(uni_arr)"
   ]
  },
  {
   "cell_type": "code",
   "execution_count": 13,
   "metadata": {},
   "outputs": [
    {
     "name": "stdout",
     "output_type": "stream",
     "text": [
      "Random array:\n",
      "[[52 93 15]\n",
      " [72 61 21]\n",
      " [83 87 75]]\n",
      "\n",
      "Row wise sorted array:\n",
      "[[15 52 93]\n",
      " [21 61 72]\n",
      " [75 83 87]]\n"
     ]
    }
   ],
   "source": [
    "#Task 4\n",
    "# একটি 2D array তৈরি করো যেটা 3x3 আকারের হবে এবং random মান থাকবে।\n",
    "# তারপর সেই array-কে row-wise sort করো।\n",
    "\n",
    "np.random.seed(42)\n",
    "rand_arr = np.random.randint(1,101,9).reshape((3,3))\n",
    "\n",
    "print(\"Random array:\")\n",
    "print(rand_arr)\n",
    "print()\n",
    "print(\"Row wise sorted array:\")\n",
    "print(np.sort(rand_arr, axis=1))\n"
   ]
  },
  {
   "cell_type": "code",
   "execution_count": 12,
   "metadata": {},
   "outputs": [
    {
     "name": "stdout",
     "output_type": "stream",
     "text": [
      "[2 3 5 7 9]\n"
     ]
    }
   ],
   "source": [
    "#Task 5\n",
    "# একটি array তৈরি করো [7, 3, 5, 2, 9, 5, 3]\n",
    "# প্রথমে unique মান বের করো,\n",
    "# তারপর সেটিকে sort করে প্রিন্ট করো।\n",
    "\n",
    "arr = np.array([7, 3, 5, 2, 9, 5, 3])\n",
    "result = np.sort(np.unique(arr))\n",
    "print(result)"
   ]
  },
  {
   "cell_type": "markdown",
   "metadata": {},
   "source": [
    "## Day 4"
   ]
  },
  {
   "cell_type": "code",
   "execution_count": 8,
   "metadata": {},
   "outputs": [
    {
     "name": "stdout",
     "output_type": "stream",
     "text": [
      "[[0.79641619 0.18972174 0.12576705 0.74472962 0.23863494]\n",
      " [0.67047692 0.90903064 0.32478635 0.05970138 0.1533944 ]\n",
      " [0.47794413 0.6260505  0.3163584  0.2363229  0.93191199]]\n"
     ]
    }
   ],
   "source": [
    "#rand()\n",
    "arr = np.random.rand(3,5)\n",
    "print(arr)"
   ]
  },
  {
   "cell_type": "code",
   "execution_count": 7,
   "metadata": {},
   "outputs": [
    {
     "name": "stdout",
     "output_type": "stream",
     "text": [
      "[[62 56 13 78 57]\n",
      " [68 34 43 31 65]]\n"
     ]
    }
   ],
   "source": [
    "#randint()\n",
    "arr = np.random.randint(1,100,(2,5))\n",
    "print(arr)"
   ]
  },
  {
   "cell_type": "code",
   "execution_count": 11,
   "metadata": {},
   "outputs": [
    {
     "name": "stdout",
     "output_type": "stream",
     "text": [
      "[[-1.66808951 -0.2755204  -1.9094958 ]\n",
      " [ 0.35243175 -0.93049053  0.16246973]\n",
      " [-0.93939017  0.59274831 -0.72559064]]\n"
     ]
    }
   ],
   "source": [
    "#randn()\n",
    "\n",
    "arr = np.random.randn(3,3)\n",
    "print(arr)"
   ]
  },
  {
   "cell_type": "code",
   "execution_count": 25,
   "metadata": {},
   "outputs": [
    {
     "name": "stdout",
     "output_type": "stream",
     "text": [
      "8\n"
     ]
    }
   ],
   "source": [
    "#random.choice()\n",
    "arr = np.random.choice([1,2,3,4,5,6,7,8,9])\n",
    "print(arr)"
   ]
  },
  {
   "cell_type": "code",
   "execution_count": 32,
   "metadata": {},
   "outputs": [
    {
     "name": "stdout",
     "output_type": "stream",
     "text": [
      "[0.5488135  0.71518937 0.60276338]\n",
      "[0.5488135  0.71518937 0.60276338]\n"
     ]
    }
   ],
   "source": [
    "#seed()\n",
    "np.random.seed(0)\n",
    "print(np.random.rand(3))\n",
    "\n",
    "np.random.seed(0)\n",
    "print(np.random.rand(3))\n"
   ]
  },
  {
   "cell_type": "code",
   "execution_count": 94,
   "metadata": {},
   "outputs": [
    {
     "name": "stdout",
     "output_type": "stream",
     "text": [
      "{'Student - 1': array([73, 19, 18, 43, 45]), 'Student - 2': array([99, 76, 88, 71, 79]), 'Student - 3': array([47, 55, 51, 44, 66]), 'Student - 4': array([79,  7, 48, 45, 10]), 'Student - 5': array([ 4, 10, 35, 95,  2]), 'Student - 6': array([39, 79, 81, 95, 51]), 'Student - 7': array([14, 87, 47, 88, 38]), 'Student - 8': array([94, 91, 83, 87,  7]), 'Student - 9': array([75, 44,  2, 74, 91]), 'Student - 10': array([49, 80, 18, 20, 20])}\n",
      "\n",
      "{'Student - 1': 198, 'Student - 2': 413, 'Student - 3': 263, 'Student - 4': 189, 'Student - 5': 146, 'Student - 6': 345, 'Student - 7': 274, 'Student - 8': 362, 'Student - 9': 286, 'Student - 10': 187}\n",
      "\n",
      "Highest Mark -> Student - 2 : 413\n",
      "Lowest Mark  -> Student - 5 : 146\n"
     ]
    }
   ],
   "source": [
    "#problem\n",
    "student_details = {}\n",
    "total_mark = {}\n",
    "\n",
    "stu_num = np.random.randint(1,100,(10,5))\n",
    "student_name = [f\"Student - {i}\" for i in range(1,11)]\n",
    "\n",
    "for i in range(10):\n",
    "    student_details[student_name[i]] = stu_num[i]\n",
    "    total_mark[student_name[i]] = sum(stu_num[i])\n",
    "\n",
    "highest_mark = [f\"{k} : {v}\" for k,v in total_mark.items() if v == max(total_mark.values())]\n",
    "lowest_mark = [f\"{k} : {v}\" for k,v in total_mark.items() if v == min(total_mark.values())]\n",
    "\n",
    "\n",
    "\n",
    "print(student_details)\n",
    "print()\n",
    "print(total_mark)\n",
    "print()\n",
    "\n",
    "for student in highest_mark:\n",
    "    print(f\"Highest Mark -> {student}\")\n",
    "\n",
    "for student in lowest_mark:\n",
    "    print(f\"Lowest Mark  -> {student}\")\n"
   ]
  },
  {
   "cell_type": "markdown",
   "metadata": {},
   "source": [
    "## Day 3"
   ]
  },
  {
   "cell_type": "markdown",
   "metadata": {},
   "source": [
    "### Topic-wise Focused Task"
   ]
  },
  {
   "cell_type": "markdown",
   "metadata": {},
   "source": [
    "#### Array Creation & Shape"
   ]
  },
  {
   "cell_type": "code",
   "execution_count": 3,
   "metadata": {},
   "outputs": [
    {
     "name": "stdout",
     "output_type": "stream",
     "text": [
      "(3, 4)\n",
      "2\n",
      "12\n",
      "int32\n"
     ]
    }
   ],
   "source": [
    "# Task - 1\n",
    "# 1. একটি 1D array তৈরি করো যেখানে মান থাকবে 1 থেকে 12 পর্যন্ত।\n",
    "# 2. সেটিকে 3x4 আকারে রূপান্তর করো।\n",
    "# 3. shape, ndim, size, dtype প্রিন্ট করো।\n",
    "\n",
    "arr = np.arange(1,13).reshape((3,4))\n",
    "print(arr.shape)\n",
    "print(arr.ndim)\n",
    "print(arr.size)\n",
    "print(arr.dtype)"
   ]
  },
  {
   "cell_type": "markdown",
   "metadata": {},
   "source": [
    "#### Slicing & Indexing"
   ]
  },
  {
   "cell_type": "code",
   "execution_count": 15,
   "metadata": {},
   "outputs": [
    {
     "name": "stdout",
     "output_type": "stream",
     "text": [
      "[[ 1  2  3  4]\n",
      " [ 5  6  7  8]\n",
      " [ 9 10 11 12]]\n",
      "\n",
      "[5 6 7 8]\n",
      "\n",
      "[ 3  7 11]\n",
      "\n",
      "[[ 5  6]\n",
      " [ 9 10]]\n"
     ]
    }
   ],
   "source": [
    "# Task - 2\n",
    "# উপরের 3x4 matrix থেকে:\n",
    "# 1. দ্বিতীয় row বের করো\n",
    "# 2. তৃতীয় column বের করো\n",
    "# 3. ২য় থেকে ৩য় row ও ১ম থেকে ২য় column-এর অংশ বের করো\n",
    "\n",
    "print(arr)\n",
    "print()\n",
    "print(arr[1])\n",
    "print()\n",
    "print(arr[:,2])\n",
    "print()\n",
    "print(arr[1:3, :2])\n"
   ]
  },
  {
   "cell_type": "markdown",
   "metadata": {},
   "source": [
    "#### Conditional Filtering"
   ]
  },
  {
   "cell_type": "code",
   "execution_count": 21,
   "metadata": {},
   "outputs": [
    {
     "name": "stdout",
     "output_type": "stream",
     "text": [
      "[ 6  7  8  9 10 11 12]\n",
      "[0 1 2]\n"
     ]
    }
   ],
   "source": [
    "# উপরের matrix থেকে:\n",
    "# 1. যেসব মান 5-এর চেয়ে বেশি, সেগুলো বের করো\n",
    "# 2. যেসব মান 10-এর সমান বা বেশি, সেগুলোর index বের করো\n",
    "\n",
    "gt5 = arr[arr>5]\n",
    "gt10 = np.argsort(arr[arr >= 10])\n",
    "\n",
    "print(gt5)\n",
    "print(gt10)\n",
    "\n"
   ]
  },
  {
   "cell_type": "markdown",
   "metadata": {},
   "source": [
    "#### Mathematical Operations"
   ]
  },
  {
   "cell_type": "code",
   "execution_count": 32,
   "metadata": {},
   "outputs": [
    {
     "name": "stdout",
     "output_type": "stream",
     "text": [
      "2\n",
      "[10 26 42]\n",
      "[5. 6. 7. 8.]\n",
      "11 12\n",
      "0 1\n"
     ]
    }
   ],
   "source": [
    "# উপরের matrix নিয়ে:\n",
    "# 1. প্রতিটি row-এর যোগফল বের করো\n",
    "# 2. প্রতিটি column-এর গড় বের করো\n",
    "# 3. সর্বোচ্চ ও সর্বনিম্ন মান ও তাদের অবস্থান বের করো\n",
    "\n",
    "sum_of_row = np.array([sum(arr[i]) for i in range(len(arr))])\n",
    "mean_of_col = np.array([np.mean(arr[:,i]) for i in range(len(arr[0]))])\n",
    "\n",
    "max_value = np.max(arr)\n",
    "max_value_idx = np.argmax(arr)\n",
    "min_value = np.min(arr)\n",
    "min_value_idx = np.argmin(arr)\n",
    "\n",
    "print(sum_of_row)\n",
    "print(mean_of_col)\n",
    "print(max_value_idx,max_value)\n",
    "print(min_value_idx,min_value)"
   ]
  },
  {
   "cell_type": "markdown",
   "metadata": {},
   "source": [
    "#### Unique, sort and Diagonal"
   ]
  },
  {
   "cell_type": "code",
   "execution_count": 41,
   "metadata": {},
   "outputs": [
    {
     "name": "stdout",
     "output_type": "stream",
     "text": [
      "[ 2  4  6  8 10]\n",
      "\n",
      "[[ 2  0  0  0  0]\n",
      " [ 0  4  0  0  0]\n",
      " [ 0  0  6  0  0]\n",
      " [ 0  0  0  8  0]\n",
      " [ 0  0  0  0 10]]\n"
     ]
    }
   ],
   "source": [
    "# Task\n",
    "# 1. একটি 1D array নাও: [2, 4, 4, 6, 8, 6, 2, 10]\n",
    "# 2. unique মান বের করো এবং sort করে দেখাও\n",
    "# 3. sorted array থেকে diagonal matrix তৈরি করো\n",
    "\n",
    "arr = np.array([10, 6, 4, 4,  8, 6, 2])\n",
    "uni_value = np.unique(arr)\n",
    "dia_mat = np.diag(uni_value)\n",
    "\n",
    "print(uni_value)\n",
    "print()\n",
    "print(dia_mat)"
   ]
  },
  {
   "cell_type": "code",
   "execution_count": null,
   "metadata": {},
   "outputs": [],
   "source": []
  },
  {
   "cell_type": "code",
   "execution_count": 15,
   "metadata": {},
   "outputs": [
    {
     "name": "stdout",
     "output_type": "stream",
     "text": [
      "How many students?: 10\n",
      "\n",
      "Full Student Data:\n",
      "\n",
      "[['Student Roll' 'Physics' 'Chemistry' 'Math' 'Biology']\n",
      " ['Roll-1  ' 81 44 90 50]\n",
      " ['Roll-2  ' 53 32 51 82]\n",
      " ['Roll-3  ' 31 59 67 31]\n",
      " ['Roll-4  ' 93 89 50 62]\n",
      " ['Roll-5  ' 87 51 78 88]\n",
      " ['Roll-6  ' 71 89 44 91]\n",
      " ['Roll-7  ' 91 76 91 80]\n",
      " ['Roll-8  ' 84 93 32 80]\n",
      " ['Roll-9  ' 36 50 68 47]\n",
      " ['Roll-10 ' 33 89 43 38]]\n",
      "\n",
      "Total Marks per Student:\n",
      "\n",
      "Roll-1   → 265\n",
      "Roll-2   → 218\n",
      "Roll-3   → 188\n",
      "Roll-4   → 294\n",
      "Roll-5   → 304\n",
      "Roll-6   → 295\n",
      "Roll-7   → 338\n",
      "Roll-8   → 289\n",
      "Roll-9   → 201\n",
      "Roll-10  → 203\n",
      "\n",
      "Average Marks per Subject:\n",
      "Physics: 66.00\n",
      "Chemistry: 67.20\n",
      "Math: 61.40\n",
      "Biology: 64.90\n",
      "\n",
      "Topper in Each Subject:\n",
      "Physics → Roll-4   (93 marks)\n",
      "Chemistry → Roll-8   (93 marks)\n",
      "Math → Roll-7   (91 marks)\n",
      "Biology → Roll-6   (91 marks)\n",
      "\n",
      "Students Who Failed in Any Subject:\n",
      "Roll-2  \n",
      "Roll-3  \n",
      "Roll-8  \n",
      "Roll-9  \n",
      "Roll-10 \n",
      "\n",
      "Highest Mark: 93 → Roll-4   in Physics\n",
      "Lowest Mark: 31 → Roll-3   in Physics\n"
     ]
    }
   ],
   "source": [
    "# Student Performance Tracker\n",
    "import numpy as np\n",
    "\n",
    "# Set the random seed for reproducibility\n",
    "np.random.seed(42)\n",
    "\n",
    "# Input & Basic Setup\n",
    "student = int(input(\"How many students?: \"))\n",
    "subjects = [\"Physics\", \"Chemistry\", \"Math\", \"Biology\"]\n",
    "heading_row = [\"Student Roll\"] + subjects\n",
    "student_names = [f\"Roll-{i+1:<3}\" for i in range(student)]\n",
    "\n",
    "# Create an object-type 2D array to hold data\n",
    "data = np.empty((student + 1, len(heading_row)), dtype=object)\n",
    "data[0] = heading_row\n",
    "data[1:, 0] = student_names\n",
    "\n",
    "# Fill in random marks (30–100) for each subject\n",
    "for i in range(1, student + 1):\n",
    "    for j in range(1, len(heading_row)):\n",
    "        data[i][j] = np.random.randint(30, 101)\n",
    "\n",
    "# Show Full Data\n",
    "print(\"\\nFull Student Data:\\n\")\n",
    "print(data)\n",
    "\n",
    "# Numeric Data Extraction\n",
    "numeric_data = data[1:, 1:].astype(np.int32)\n",
    "roll_list = data[1:, 0]\n",
    "\n",
    "# Total Marks per Student\n",
    "print(\"\\nTotal Marks per Student:\\n\")\n",
    "for i in range(student):\n",
    "    total = np.sum(numeric_data[i])\n",
    "    print(f\"{roll_list[i]} → {total}\")\n",
    "\n",
    "# Average Marks per Subject\n",
    "avg_marks = np.mean(numeric_data, axis=0)\n",
    "print(\"\\nAverage Marks per Subject:\")\n",
    "for i in range(len(subjects)):\n",
    "    print(f\"{subjects[i]}: {avg_marks[i]:.2f}\")\n",
    "\n",
    "# Topper in Each Subject\n",
    "print(\"\\nTopper in Each Subject:\")\n",
    "topper_indices = np.argmax(numeric_data, axis=0)\n",
    "for i, idx in enumerate(topper_indices):\n",
    "    print(f\"{subjects[i]} → {roll_list[idx]} ({numeric_data[idx, i]} marks)\")\n",
    "\n",
    "# Students Who Failed (any subject < 40)\n",
    "print(\"\\nStudents Who Failed in Any Subject:\")\n",
    "failed_flags = np.any(numeric_data < 40, axis=1)\n",
    "failed_students = roll_list[failed_flags]\n",
    "if len(failed_students) > 0:\n",
    "    for name in failed_students:\n",
    "        print(name)\n",
    "else:\n",
    "    print(\"All students passed\")\n",
    "\n",
    "# Max & Min Marks\n",
    "max_val = np.max(numeric_data)\n",
    "min_val = np.min(numeric_data)\n",
    "max_pos = np.unravel_index(np.argmax(numeric_data), numeric_data.shape)\n",
    "min_pos = np.unravel_index(np.argmin(numeric_data), numeric_data.shape)\n",
    "\n",
    "print(f\"\\nHighest Mark: {max_val} → {roll_list[max_pos[0]]} in {subjects[max_pos[1]]}\")\n",
    "print(f\"Lowest Mark: {min_val} → {roll_list[min_pos[0]]} in {subjects[min_pos[1]]}\")"
   ]
  },
  {
   "cell_type": "code",
   "execution_count": 20,
   "metadata": {
    "scrolled": true
   },
   "outputs": [
    {
     "name": "stdout",
     "output_type": "stream",
     "text": [
      "[[[0 0]\n",
      "  [0 0]\n",
      "  [0 0]]\n",
      "\n",
      " [[0 0]\n",
      "  [0 0]\n",
      "  [0 0]]]\n",
      "int64\n"
     ]
    }
   ],
   "source": [
    "arr = np.empty((2,3,2))\n",
    "print(arr)\n",
    "print(arr.dtype)"
   ]
  },
  {
   "cell_type": "code",
   "execution_count": 21,
   "metadata": {},
   "outputs": [
    {
     "name": "stdout",
     "output_type": "stream",
     "text": [
      "[1 2 3]\n",
      "[1 2 3]\n",
      "False\n"
     ]
    }
   ],
   "source": [
    "a = [1, 2, 3]\n",
    "b = np.array(a)\n",
    "c = np.asarray(a)\n",
    "\n",
    "print(b)\n",
    "print(c)\n",
    "\n",
    "print(b is c)"
   ]
  },
  {
   "cell_type": "code",
   "execution_count": 23,
   "metadata": {},
   "outputs": [
    {
     "name": "stdout",
     "output_type": "stream",
     "text": [
      "[10 20 30]\n",
      "[10 20 30]\n",
      "True\n"
     ]
    }
   ],
   "source": [
    "a = np.array([10, 20, 30])\n",
    "b = np.asarray(a)\n",
    "\n",
    "print(a)\n",
    "print(b)\n",
    "\n",
    "print(a is b)"
   ]
  },
  {
   "cell_type": "code",
   "execution_count": 50,
   "metadata": {},
   "outputs": [
    {
     "name": "stdout",
     "output_type": "stream",
     "text": [
      "[[41 16 73]\n",
      " [23 44 83]\n",
      " [76  8 35]\n",
      " [50 96 76]]\n",
      "\n",
      "[[1 1 1]\n",
      " [1 1 1]\n",
      " [1 1 1]\n",
      " [1 1 1]]\n"
     ]
    }
   ],
   "source": [
    "np.random.seed(2)\n",
    "new_arr = np.random.randint(1,100,12).reshape(4,3)\n",
    "print(new_arr)\n",
    "print()\n",
    "ones_arr = np.ones_like(new_arr)\n",
    "print(ones_arr)"
   ]
  },
  {
   "cell_type": "code",
   "execution_count": 57,
   "metadata": {
    "scrolled": true
   },
   "outputs": [
    {
     "name": "stdout",
     "output_type": "stream",
     "text": [
      "|S4\n"
     ]
    }
   ],
   "source": [
    "numarics_string = np.array(['1.25', '-9.6', '42'], dtype=np.string_)\n",
    "print(numarics_string.dtype)\n",
    "\n",
    "#numarics_string.astype(np.float)\n",
    "#print(numarics_string.dtype)"
   ]
  },
  {
   "cell_type": "markdown",
   "metadata": {},
   "source": [
    "## Project: Student Result Analysis System\n",
    "### Features:\n",
    "* Student এর নাম ও subject-wise mark randomly assign হবে\n",
    "\n",
    "* Total, Average, Max, Min result বের করবে\n",
    "\n",
    "* Highest scorer কে identify করবে\n",
    "\n",
    "* Fail করা subject count করবে\n",
    "\n",
    "* Subject-wise topper ও average দেখাবে\n",
    "\n",
    "* Filtering: যাদের average 80+ তারা \"Scholarship\"\n",
    "\n",
    "* Custom student search by index\n",
    "\n",
    "* Bonus: Graph বানাতে পারো (later with matplotlib)\n",
    "\n",
    "### Concepts Used:\n",
    "* np.array(), np.arange(), reshape(), randint(), astype()\n",
    "\n",
    "* Indexing, slicing, condition-based filtering\n",
    "\n",
    "* np.mean(), np.sum(), np.max(), np.min(), argmax(), argwhere(), where(), unravel_index(), unique()\n",
    "\n",
    "* Broadcasting & dtype handling"
   ]
  },
  {
   "cell_type": "markdown",
   "metadata": {},
   "source": [
    "### EXPECTED OUTPUT"
   ]
  },
  {
   "cell_type": "markdown",
   "metadata": {},
   "source": [
    "    How many students?: 3\n",
    "\n",
    "    🎓 Marks Matrix:\n",
    "    [[74 77 97 67]\n",
    "     [85 40 55 41]\n",
    "     [43 89 96 96]]\n",
    "\n",
    "    📊 Total Marks per Student:\n",
    "    [315 221 324]\n",
    "\n",
    "    📈 Average Marks per Student:\n",
    "    [78.75 55.25 81.  ]\n",
    "\n",
    "    📘 Subject-wise Average Marks:\n",
    "    Math: 67.33\n",
    "    Physics: 68.67\n",
    "    Chemistry: 82.67\n",
    "    Biology: 68.00\n",
    "\n",
    "    🏆 Highest Scorer: Roll-3 with 324 marks\n",
    "    😓 Lowest Scorer: Roll-2 with 221 marks\n",
    "\n",
    "    ❌ Number of Failing Subjects per Student:\n",
    "    Roll-1: 0 failed subjects\n",
    "    Roll-2: 2 failed subjects\n",
    "    Roll-3: 0 failed subjects\n",
    "\n",
    "    🥇 Topper in each Subject:\n",
    "    Math Topper: Roll-2 with 85\n",
    "    Physics Topper: Roll-3 with 89\n",
    "    Chemistry Topper: Roll-3 with 96\n",
    "    Biology Topper: Roll-3 with 96\n",
    "\n",
    "    🎖️ Scholarship Eligible Students:\n",
    "    Roll-1 with avg 78.75\n",
    "    Roll-3 with avg 81.00\n",
    "\n",
    "    🔍 Search Student Marks\n",
    "    Enter student index (1-based): 2\n",
    "    Roll-2 - Marks: [85 40 55 41]\n",
    "    Total: 221, Avg: 55.25"
   ]
  },
  {
   "cell_type": "code",
   "execution_count": 11,
   "metadata": {},
   "outputs": [
    {
     "name": "stdout",
     "output_type": "stream",
     "text": [
      "How many student on the class? : 12\n",
      "\n",
      "-----Mark Matrix-----\n",
      "[[ 71  34  91  80  40]\n",
      " [ 94  94  43  22  41]\n",
      " [ 72  21  49  57  21]\n",
      " [ 83  79  40  52  95]\n",
      " [ 77  41  68  78  61]\n",
      " [ 79  99  34  81  81]\n",
      " [ 66  81  70  74  83]\n",
      " [ 22  70  26  40  92]\n",
      " [ 58  37  23  79  33]\n",
      " [ 28  72  21  79  90]\n",
      " [ 63  27  66  54  97]\n",
      " [100  55  69  23  21]]\n",
      "\n",
      "--Total Mark by subject--\n",
      "[813 710 600 719 755]\n",
      "\n",
      "--Avarage Marks Per Students--\n",
      "[63.2 58.8 44.  69.8 65.  74.8 74.8 50.  46.  58.  61.4 53.6]\n",
      "\n",
      "--Subject Wise Avarage Number--\n",
      "ICT        -> 53.6\n",
      "Physics    -> 63.2\n",
      "Chemistry  -> 58.8\n",
      "Math       -> 44.0\n",
      "Biology    -> 69.8\n"
     ]
    }
   ],
   "source": [
    "#lets start \n",
    "import numpy as np\n",
    "\n",
    "np.random.seed(42)\n",
    "\n",
    "total_students = int(input(\"How many student on the class? : \"))\n",
    "subjects = [\"Physics\",\"Chemistry\",\"Math\", \"Biology\",\"ICT\"]\n",
    "roll_list = np.array([f\"Roll - {i+1}\" for i in range(total_students)])\n",
    "marks = np.random.randint(20,101, size = (total_students, len(subjects)))\n",
    "\n",
    "print(\"\\n-----Mark Matrix-----\")\n",
    "print(marks)\n",
    "\n",
    "print(\"\\n--Total Mark by subject--\")\n",
    "print(np.sum(marks, axis=0))\n",
    "\n",
    "print(\"\\n--Avarage Marks Per Students--\")\n",
    "print(np.mean(marks, axis=1))\n",
    "\n",
    "print(\"\\n--Subject Wise Avarage Number--\")\n",
    "\n",
    "for i in range(len(subjects)):\n",
    "    print(f\"{subjects[i-1]:<10} -> \"+ f\"{np.mean(marks[i-1], axis=0)}\")\n"
   ]
  },
  {
   "cell_type": "code",
   "execution_count": null,
   "metadata": {},
   "outputs": [],
   "source": []
  },
  {
   "cell_type": "code",
   "execution_count": 21,
   "metadata": {},
   "outputs": [
    {
     "name": "stdout",
     "output_type": "stream",
     "text": [
      "How many students?: 10\n",
      "\n",
      "Full Student Data:\n",
      "\n",
      "[['Student Roll' 'Physics' 'Chemistry' 'Math' 'Biology']\n",
      " ['Roll-1  ' 81 44 90 50]\n",
      " ['Roll-2  ' 53 32 51 82]\n",
      " ['Roll-3  ' 31 59 67 31]\n",
      " ['Roll-4  ' 93 89 50 62]\n",
      " ['Roll-5  ' 87 51 78 88]\n",
      " ['Roll-6  ' 71 89 44 91]\n",
      " ['Roll-7  ' 91 76 91 80]\n",
      " ['Roll-8  ' 84 93 32 80]\n",
      " ['Roll-9  ' 36 50 68 47]\n",
      " ['Roll-10 ' 33 89 43 38]]\n",
      "\n",
      "Total Marks per Student:\n",
      "\n",
      "Roll-1   → 265\n",
      "Roll-2   → 218\n",
      "Roll-3   → 188\n",
      "Roll-4   → 294\n",
      "Roll-5   → 304\n",
      "Roll-6   → 295\n",
      "Roll-7   → 338\n",
      "Roll-8   → 289\n",
      "Roll-9   → 201\n",
      "Roll-10  → 203\n",
      "\n",
      "Average Marks per Subject:\n",
      "Physics   : 66.00\n",
      "Chemistry : 67.20\n",
      "Math      : 61.40\n",
      "Biology   : 64.90\n",
      "\n",
      "Topper in Each Subject:\n",
      "Physics    → Roll-4   (93 marks)\n",
      "Chemistry  → Roll-8   (93 marks)\n",
      "Math       → Roll-7   (91 marks)\n",
      "Biology    → Roll-6   (91 marks)\n",
      "\n",
      "Students Who Failed in Any Subject:\n",
      "Roll-2  \n",
      "Roll-3  \n",
      "Roll-8  \n",
      "Roll-9  \n",
      "Roll-10 \n",
      "\n",
      "Highest Mark : 93 → Roll-4   in Physics\n",
      "Lowest Mark  : 31 → Roll-3   in Physics\n"
     ]
    }
   ],
   "source": []
  },
  {
   "cell_type": "code",
   "execution_count": null,
   "metadata": {},
   "outputs": [],
   "source": []
  }
 ],
 "metadata": {
  "kernelspec": {
   "display_name": "Python 3",
   "language": "python",
   "name": "python3"
  },
  "language_info": {
   "codemirror_mode": {
    "name": "ipython",
    "version": 3
   },
   "file_extension": ".py",
   "mimetype": "text/x-python",
   "name": "python",
   "nbconvert_exporter": "python",
   "pygments_lexer": "ipython3",
   "version": "3.7.6"
  }
 },
 "nbformat": 4,
 "nbformat_minor": 4
}
